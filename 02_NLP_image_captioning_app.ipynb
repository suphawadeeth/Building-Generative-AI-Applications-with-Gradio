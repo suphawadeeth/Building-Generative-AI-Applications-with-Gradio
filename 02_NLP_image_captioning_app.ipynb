{
  "nbformat": 4,
  "nbformat_minor": 0,
  "metadata": {
    "colab": {
      "provenance": [],
      "authorship_tag": "ABX9TyPpxFg++fSPj9l6rrkzUyK0",
      "include_colab_link": true
    },
    "kernelspec": {
      "name": "python3",
      "display_name": "Python 3"
    },
    "language_info": {
      "name": "python"
    }
  },
  "cells": [
    {
      "cell_type": "markdown",
      "metadata": {
        "id": "view-in-github",
        "colab_type": "text"
      },
      "source": [
        "<a href=\"https://colab.research.google.com/github/suphawadeeth/Building-Generative-AI-Applications-with-Gradio/blob/main/02_NLP_image_captioning_app.ipynb\" target=\"_parent\"><img src=\"https://colab.research.google.com/assets/colab-badge.svg\" alt=\"Open In Colab\"/></a>"
      ]
    },
    {
      "cell_type": "markdown",
      "source": [
        "# **Image Captioning App with Gradio** 🖼️📝\n",
        "Load your HF API key and relevant Python libraries"
      ],
      "metadata": {
        "id": "PbNqy7cPmxNW"
      }
    },
    {
      "cell_type": "code",
      "source": [
        "from IPython.display import Image, display, HTML\n",
        "from PIL import Image\n",
        "import base64\n",
        "import io\n",
        "from google.colab import userdata\n",
        "hf_api_key = userdata.get('HF_API_KEY')\n",
        "import gradio as gr"
      ],
      "metadata": {
        "id": "ESCNug4ioYjw"
      },
      "execution_count": null,
      "outputs": []
    },
    {
      "cell_type": "markdown",
      "source": [
        "## **Building Image Captioning App with Gradio**"
      ],
      "metadata": {
        "id": "2zkIQpLkaz6N"
      }
    },
    {
      "cell_type": "markdown",
      "source": [
        "Here we'll be using an Inference Endpoint for `Salesforce/blip-image-captioning-base`, a 14M parameter captioning model."
      ],
      "metadata": {
        "id": "4Wu_l2AAfN62"
      }
    },
    {
      "cell_type": "code",
      "execution_count": null,
      "metadata": {
        "id": "eLZFu7oUmXW-"
      },
      "outputs": [],
      "source": [
        "# Helper functions\n",
        "import requests, json\n",
        "\n",
        "# Image-to-text endpoint\n",
        "def get_completion(inputs, parameters=None, ENDPOINT_URL=userdata.get('HF_API_ITT_BASE')):\n",
        "    headers = {\n",
        "      \"Authorization\": f\"Bearer {hf_api_key}\",\n",
        "      \"Content-Type\": \"application/json\"\n",
        "    }\n",
        "    data = { \"inputs\": inputs }\n",
        "    if parameters is not None:\n",
        "        data.update({\"parameters\": parameters})\n",
        "    response = requests.request(\"POST\",\n",
        "                                ENDPOINT_URL,\n",
        "                                headers=headers,\n",
        "                                data=json.dumps(data))\n",
        "    return json.loads(response.content.decode(\"utf-8\"))"
      ]
    },
    {
      "cell_type": "markdown",
      "source": [
        "From the `get_completion` function above, it creates a caption for the given image, as shown here.\n",
        "\n",
        "[{'generated_text': 'a dog wearing a santa hat and a red scarf'}]\n",
        "\n",
        "\n",
        "With Gradio, we can enhance its appeal."
      ],
      "metadata": {
        "id": "K0evfAXibAyy"
      }
    },
    {
      "cell_type": "code",
      "source": [
        "image_url = \"https://free-images.com/sm/9596/dog_animal_greyhound_983023.jpg\"\n",
        "print(get_completion(image_url))\n",
        "Image(url=image_url)"
      ],
      "metadata": {
        "colab": {
          "base_uri": "https://localhost:8080/",
          "height": 295
        },
        "id": "ZYsR7m1Dm1ps",
        "outputId": "a114a08f-0d20-4cd7-866c-0bea156ecf67"
      },
      "execution_count": null,
      "outputs": [
        {
          "output_type": "stream",
          "name": "stdout",
          "text": [
            "[{'generated_text': 'a dog wearing a santa hat and a red scarf'}]\n"
          ]
        },
        {
          "output_type": "execute_result",
          "data": {
            "text/html": [
              "<img src=\"https://free-images.com/sm/9596/dog_animal_greyhound_983023.jpg\"/>"
            ],
            "text/plain": [
              "<IPython.core.display.Image object>"
            ]
          },
          "metadata": {},
          "execution_count": 39
        }
      ]
    },
    {
      "cell_type": "markdown",
      "source": [
        "**Building Captioning App with Gradio Interface**"
      ],
      "metadata": {
        "id": "iXOo2WARgMUI"
      }
    },
    {
      "cell_type": "code",
      "source": [
        "def image_to_base64_str(pil_image):\n",
        "    \"\"\"The function will take an image and transform it to base64 format\n",
        "    which required to run using API\"\"\"\n",
        "    byte_arr = io.BytesIO()\n",
        "    pil_image.save(byte_arr, format='PNG')\n",
        "    byte_arr = byte_arr.getvalue()\n",
        "    return str(base64.b64encode(byte_arr).decode('utf-8'))\n",
        "\n",
        "def captioner(image):\n",
        "    \"\"\"The function takes an image and generate caption\"\"\"\n",
        "    base64_image = image_to_base64_str(image)\n",
        "    result = get_completion(base64_image)\n",
        "    return result[0]['generated_text']\n",
        "\n",
        "demo = gr.Interface(fn=captioner,\n",
        "                    inputs=[gr.Image(label=\"Upload image\", type=\"pil\")],\n",
        "                    outputs=[gr.Textbox(label=\"Caption\")],\n",
        "                    title=\"Image Captioning App\",\n",
        "                    description=\"Caption any image using the BLIP model\",\n",
        "                    allow_flagging=\"never\")\n",
        "\n",
        "demo.launch(share=True)"
      ],
      "metadata": {
        "colab": {
          "base_uri": "https://localhost:8080/",
          "height": 611
        },
        "id": "QAFMbxzaZE1q",
        "outputId": "99f2152c-42ef-4a20-e947-cdefee98ac55"
      },
      "execution_count": null,
      "outputs": [
        {
          "output_type": "stream",
          "name": "stdout",
          "text": [
            "Colab notebook detected. To show errors in colab notebook, set debug=True in launch()\n",
            "Running on public URL: https://b220df1a58a47ffcc1.gradio.live\n",
            "\n",
            "This share link expires in 72 hours. For free permanent hosting and GPU upgrades, run `gradio deploy` from Terminal to deploy to Spaces (https://huggingface.co/spaces)\n"
          ]
        },
        {
          "output_type": "display_data",
          "data": {
            "text/plain": [
              "<IPython.core.display.HTML object>"
            ],
            "text/html": [
              "<div><iframe src=\"https://b220df1a58a47ffcc1.gradio.live\" width=\"100%\" height=\"500\" allow=\"autoplay; camera; microphone; clipboard-read; clipboard-write;\" frameborder=\"0\" allowfullscreen></iframe></div>"
            ]
          },
          "metadata": {}
        },
        {
          "output_type": "execute_result",
          "data": {
            "text/plain": []
          },
          "metadata": {},
          "execution_count": 45
        }
      ]
    },
    {
      "cell_type": "code",
      "source": [
        "gr.close_all()"
      ],
      "metadata": {
        "id": "mhTlNbN-e9rl"
      },
      "execution_count": null,
      "outputs": []
    },
    {
      "cell_type": "code",
      "source": [],
      "metadata": {
        "id": "c_wjoPv8e_z4"
      },
      "execution_count": null,
      "outputs": []
    }
  ]
}